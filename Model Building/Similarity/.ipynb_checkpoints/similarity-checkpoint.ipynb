{
 "cells": [
  {
   "cell_type": "code",
   "execution_count": 194,
   "metadata": {},
   "outputs": [],
   "source": [
    "import warnings\n",
    "warnings.filterwarnings('ignore')\n",
    "import numpy as np\n",
    "import pandas as pd\n",
    "import matplotlib.pyplot as plt\n",
    "import string\n",
    "from sklearn.metrics.pairwise import cosine_similarity, euclidean_distances\n",
    "from sklearn.feature_extraction.text import TfidfVectorizer\n",
    "import spacy\n",
    "nlp = spacy.load('fr_core_news_md')"
   ]
  },
  {
   "cell_type": "code",
   "execution_count": 216,
   "metadata": {
    "scrolled": true
   },
   "outputs": [
    {
     "data": {
      "text/plain": [
       "Index(['hasAttachments', 'sender name', 'subject', 'body',\n",
       "       'sender email domain', 'language', 'category'],\n",
       "      dtype='object')"
      ]
     },
     "execution_count": 216,
     "metadata": {},
     "output_type": "execute_result"
    }
   ],
   "source": [
    "#read emails\n",
    "emails= pd.read_excel('emails_labled_fr.xlsx')\n",
    "emails.columns"
   ]
  },
  {
   "cell_type": "code",
   "execution_count": 217,
   "metadata": {},
   "outputs": [
    {
     "data": {
      "text/plain": [
       "formation    226\n",
       "scolarité     73\n",
       "sport         33\n",
       "événement     31\n",
       "autre         10\n",
       "Name: category, dtype: int64"
      ]
     },
     "execution_count": 217,
     "metadata": {},
     "output_type": "execute_result"
    }
   ],
   "source": [
    "emails['category'].value_counts()"
   ]
  },
  {
   "cell_type": "code",
   "execution_count": 218,
   "metadata": {},
   "outputs": [],
   "source": [
    "#concatenate body with subject\n",
    "emails[\"text\"] = emails['subject'].map(str) +\" \"+ emails['body'].map(str)"
   ]
  },
  {
   "cell_type": "code",
   "execution_count": 219,
   "metadata": {},
   "outputs": [],
   "source": [
    "emails= emails[emails['category'] != \"autre\"]"
   ]
  },
  {
   "cell_type": "code",
   "execution_count": 233,
   "metadata": {},
   "outputs": [
    {
     "data": {
      "text/html": [
       "<div>\n",
       "<style scoped>\n",
       "    .dataframe tbody tr th:only-of-type {\n",
       "        vertical-align: middle;\n",
       "    }\n",
       "\n",
       "    .dataframe tbody tr th {\n",
       "        vertical-align: top;\n",
       "    }\n",
       "\n",
       "    .dataframe thead th {\n",
       "        text-align: right;\n",
       "    }\n",
       "</style>\n",
       "<table border=\"1\" class=\"dataframe\">\n",
       "  <thead>\n",
       "    <tr style=\"text-align: right;\">\n",
       "      <th></th>\n",
       "      <th>text</th>\n",
       "      <th>acual category</th>\n",
       "      <th>is_target</th>\n",
       "    </tr>\n",
       "  </thead>\n",
       "  <tbody>\n",
       "    <tr>\n",
       "      <th>362</th>\n",
       "      <td>fayssal benkhaldoun vous a ajouté au groupe « ...</td>\n",
       "      <td>scolarité</td>\n",
       "      <td>0</td>\n",
       "    </tr>\n",
       "    <tr>\n",
       "      <th>363</th>\n",
       "      <td>soirée conférence congrés internationale sémin...</td>\n",
       "      <td>événement</td>\n",
       "      <td>1</td>\n",
       "    </tr>\n",
       "    <tr>\n",
       "      <th>364</th>\n",
       "      <td>encadrement discipline chapitre livre lien en-...</td>\n",
       "      <td>formation</td>\n",
       "      <td>1</td>\n",
       "    </tr>\n",
       "    <tr>\n",
       "      <th>365</th>\n",
       "      <td>Cursus Parcours Culture Connaissance Savoir Sc...</td>\n",
       "      <td>scolarité</td>\n",
       "      <td>1</td>\n",
       "    </tr>\n",
       "    <tr>\n",
       "      <th>366</th>\n",
       "      <td>sport sportif sportive amusement culture physi...</td>\n",
       "      <td>sport</td>\n",
       "      <td>1</td>\n",
       "    </tr>\n",
       "  </tbody>\n",
       "</table>\n",
       "</div>"
      ],
      "text/plain": [
       "                                                  text acual category  \\\n",
       "362  fayssal benkhaldoun vous a ajouté au groupe « ...      scolarité   \n",
       "363  soirée conférence congrés internationale sémin...      événement   \n",
       "364  encadrement discipline chapitre livre lien en-...      formation   \n",
       "365  Cursus Parcours Culture Connaissance Savoir Sc...      scolarité   \n",
       "366  sport sportif sportive amusement culture physi...          sport   \n",
       "\n",
       "     is_target  \n",
       "362          0  \n",
       "363          1  \n",
       "364          1  \n",
       "365          1  \n",
       "366          1  "
      ]
     },
     "execution_count": 233,
     "metadata": {},
     "output_type": "execute_result"
    }
   ],
   "source": [
    "#prepare data for vectorization\n",
    "emails_p= emails[['text']]\n",
    "emails_p['acual category']= emails['category']\n",
    "emails_p['is_target']= 0\n",
    "\n",
    "#vocabulary\n",
    "evenment_vocab= \"soirée conférence congrés internationale séminaire  réunion  rencontre  débat  colloque  conciliabule \\\n",
    "fatalité fiction fléau fortune infortune intrigue légende malchance modalités moment obstacle occurrence particularité \\\n",
    "peine rapport revers risque roman sort tuile veine épreuve éventualité évènement affaire  vicissitude  épisode  incident \\\n",
    "neuve  avatar  rebondissement calamité tragédie information récit accident chose fait malheur aubaine bonheur possibilité \\\n",
    "fable fin inédite trouble hasard écho chance mésaventure aventure coïncidence dépêche moderne conjoncture \\\n",
    "résultat récente opportunité bruit crise occasion circonstances péripétie cataclysme conte cas actualité annales nouvelle \\\n",
    "catastrophe épopée originale histoire drame désastre situation circonstance date lieu inauguration overture fête \\\n",
    "adversité  avantage chagrin chronique conditions danger dessein difficulté données détresse embarras symposium \\\n",
    "table ronde speech discours spectacle réunion réception fête\"\n",
    "\n",
    "formation_vocab= \"encadrement discipline chapitre livre lien en-ligne on-ligne parcour introduction suite dernier éducation \\\n",
    "exercice orientation instruction entraine toi scolarité enseignement faire des exercices Contexte basiques accumuler \\\n",
    "cultivation mise à la terre travail à faire préliminaires principes se préparer mise au point travaux pratique travaux dirigés \\\n",
    "Emploi du temps Professeurs séance salle examen  semestre cours examen final notes slide fichier travail Contrôle continu \\\n",
    "rapport compte rendu devoirs mini-projet inscription apprentissage formation présentation rattrapage éliminatoire\"\n",
    "\n",
    "scolarite_vocab= \"Cursus Parcours Culture Connaissance Savoir Science Lettres Lecture Instruction didactique pédagogie \\\n",
    "pédagogieenseignement supérieur enseignement supérieur coaching conditionnement cultivation préparation stage développement \\\n",
    "direction orientation nurturance édification nourricière illumination amélioration encadrement mentora forage raccord mise à \\\n",
    "niveau habilitant en train de préparer éligible direction guidage de premier plan élevage conférence moralisant prédication \\\n",
    "implantation inculquer école à la maison édifiant éclairant familiariser donner (à) délation versant initier introduction \\\n",
    "montrant rééduquer réécole rééducation reconversion certificat de scolarité culturel document éducatif instructif pédagogique \\\n",
    "scolaire attestation certificat réglement interne consigne papier dossier scolarité bureau responsable planning corps \\\n",
    "professoral formation heure durée année début fin\"\n",
    "\n",
    "\n",
    "sport_vocab=\"sport sportif sportive amusement culture physique entraînement exercice jeu loyal turf Amuser Divertissement \\\n",
    "Délassement Ludisme Plaisir Badinage Manège Plaisanterie Match Interprétation Entraînement Exercice raquette article ballon \\\n",
    "chaussure club faire chambre athlétisme athléte gardien terrain lieu matériel pratique pratiquer sac salle amateur collectif \\\n",
    "hiver équipe fauteuil balle ballon combat compétition challenge contact glisse haut niveau compétition loisir masse musculation \\\n",
    "piscine plein air individuel mécanique nautique natation cardio professionnel pédestre  spectacle équestre équitation marche \\\n",
    "échauffement art martial station tenue terrain veste voiture vélo vêtement\"\n",
    "\n",
    "evenment ={\n",
    "                'text': evenment_vocab,\n",
    "                'acual category': \"événement\",\n",
    "                'is_target': 1,\n",
    "          }\n",
    "formation ={\n",
    "                'text': formation_vocab,\n",
    "                'acual category': \"formation\",\n",
    "                'is_target': 1,\n",
    "           }\n",
    "scolarite ={\n",
    "                'text': scolarite_vocab,\n",
    "                'acual category': \"scolarité\",\n",
    "                'is_target': 1,\n",
    "           }\n",
    "sport ={\n",
    "                'text': sport_vocab,\n",
    "                'acual category': \"sport\",\n",
    "                'is_target': 1,\n",
    "        }\n",
    "\n",
    "emails_p = emails_p.append([evenment, formation, scolarite, sport], ignore_index=True)\n",
    "emails_p.tail()"
   ]
  },
  {
   "cell_type": "code",
   "execution_count": 234,
   "metadata": {},
   "outputs": [],
   "source": [
    "# removing stop words and lemmitization\n",
    "emails_p['text']=emails_p['text'].apply(lambda row: \" \".join([w.lemma_ for w in nlp(row) if not w.is_stop]))"
   ]
  },
  {
   "cell_type": "code",
   "execution_count": 235,
   "metadata": {},
   "outputs": [],
   "source": [
    "## Tf-Idf vectorization\n",
    "vectors = TfidfVectorizer().fit(emails_p['text']).transform(emails_p['text']).toarray()"
   ]
  },
  {
   "cell_type": "markdown",
   "metadata": {},
   "source": [
    "# Syntatic similarity\n",
    "<ul>\n",
    "<li>cosine similarity</li>\n",
    "<li>euclidean distance</li>\n",
    "</ul>"
   ]
  },
  {
   "cell_type": "code",
   "execution_count": 236,
   "metadata": {},
   "outputs": [],
   "source": [
    "## cosine similarity\n",
    "csim= cosine_similarity(vectors)\n",
    "## euclidean distance\n",
    "euc_dist= euclidean_distances(vectors)"
   ]
  },
  {
   "cell_type": "code",
   "execution_count": 237,
   "metadata": {},
   "outputs": [],
   "source": [
    "## Add cosine_similarity column to dataframe\n",
    "import operator\n",
    "emails_p['cosine similarity']=\"\"\n",
    "emails_p['euclidean distance']=\"\"\n",
    "emails_p['cosine value']=\"\"\n",
    "emails_p['euclidean value']=\"\"\n",
    "for index, is_target in emails_p[\"is_target\"].iteritems():\n",
    "    if(is_target == 0):\n",
    "        evn_index= emails_p[ (emails_p['is_target']==1) & (emails_p['acual category']=='événement') ].index\n",
    "        formation_index= emails_p[ (emails_p['is_target']==1) & (emails_p['acual category']=='formation') ].index\n",
    "        scol_index= emails_p[ (emails_p['is_target']==1) & (emails_p['acual category']=='scolarité') ].index\n",
    "        sport_index= emails_p[ (emails_p['is_target']==1) & (emails_p['acual category']=='sport') ].index\n",
    "        \n",
    "        cosine_similarities = {'formation': csim[index][formation_index], 'scolarité':csim[index][scol_index], 'événement': csim[index][evn_index], 'sport':csim[index][sport_index]}\n",
    "        eucl_similarities = {'formation': euc_dist[index][formation_index], 'scolarité':euc_dist[index][scol_index], 'événement': euc_dist[index][evn_index], 'sport':euc_dist[index][sport_index]}\n",
    "        \n",
    "        max_cosine_sim= max(csim[index][formation_index], csim[index][evn_index], csim[index][scol_index], csim[index][sport_index])\n",
    "        min_eucl_sim= min(euc_dist[index][formation_index], euc_dist[index][evn_index], euc_dist[index][scol_index], euc_dist[index][sport_index])\n",
    "        \n",
    "        emails_p['cosine similarity'][index]= max(cosine_similarities.items(), key=operator.itemgetter(1))[0]\n",
    "        emails_p['cosine value'][index]= \"{:10.4f}\".format(max_cosine_sim[0])\n",
    "        emails_p['euclidean distance'][index]= min(eucl_similarities.items(), key=operator.itemgetter(1))[0]\n",
    "        emails_p['euclidean value'][index]= \"{:10.4f}\".format(min_eucl_sim[0])"
   ]
  },
  {
   "cell_type": "code",
   "execution_count": 238,
   "metadata": {},
   "outputs": [
    {
     "data": {
      "text/html": [
       "<div>\n",
       "<style scoped>\n",
       "    .dataframe tbody tr th:only-of-type {\n",
       "        vertical-align: middle;\n",
       "    }\n",
       "\n",
       "    .dataframe tbody tr th {\n",
       "        vertical-align: top;\n",
       "    }\n",
       "\n",
       "    .dataframe thead th {\n",
       "        text-align: right;\n",
       "    }\n",
       "</style>\n",
       "<table border=\"1\" class=\"dataframe\">\n",
       "  <thead>\n",
       "    <tr style=\"text-align: right;\">\n",
       "      <th></th>\n",
       "      <th>text</th>\n",
       "      <th>acual category</th>\n",
       "      <th>is_target</th>\n",
       "      <th>cosine similarity</th>\n",
       "      <th>euclidean distance</th>\n",
       "      <th>cosine value</th>\n",
       "      <th>euclidean value</th>\n",
       "    </tr>\n",
       "  </thead>\n",
       "  <tbody>\n",
       "    <tr>\n",
       "      <th>0</th>\n",
       "      <td>open minds conférence pr najat vallaud belkace...</td>\n",
       "      <td>événement</td>\n",
       "      <td>0</td>\n",
       "      <td>événement</td>\n",
       "      <td>événement</td>\n",
       "      <td>0.0304</td>\n",
       "      <td>1.3925</td>\n",
       "    </tr>\n",
       "    <tr>\n",
       "      <th>1</th>\n",
       "      <td>modification rendez enregistrer mohammed vi po...</td>\n",
       "      <td>sport</td>\n",
       "      <td>0</td>\n",
       "      <td>sport</td>\n",
       "      <td>sport</td>\n",
       "      <td>0.0258</td>\n",
       "      <td>1.3959</td>\n",
       "    </tr>\n",
       "    <tr>\n",
       "      <th>2</th>\n",
       "      <td>al khwarizmi planning semaine décembre bonjour...</td>\n",
       "      <td>formation</td>\n",
       "      <td>0</td>\n",
       "      <td>formation</td>\n",
       "      <td>formation</td>\n",
       "      <td>0.0432</td>\n",
       "      <td>1.3833</td>\n",
       "    </tr>\n",
       "    <tr>\n",
       "      <th>3</th>\n",
       "      <td>rendez confirmer succès mohammed vi polytechni...</td>\n",
       "      <td>sport</td>\n",
       "      <td>0</td>\n",
       "      <td>sport</td>\n",
       "      <td>sport</td>\n",
       "      <td>0.0364</td>\n",
       "      <td>1.3883</td>\n",
       "    </tr>\n",
       "    <tr>\n",
       "      <th>4</th>\n",
       "      <td>rendez confirmer succès mohammed vi polytechni...</td>\n",
       "      <td>sport</td>\n",
       "      <td>0</td>\n",
       "      <td>sport</td>\n",
       "      <td>sport</td>\n",
       "      <td>0.0394</td>\n",
       "      <td>1.3861</td>\n",
       "    </tr>\n",
       "  </tbody>\n",
       "</table>\n",
       "</div>"
      ],
      "text/plain": [
       "                                                text acual category  \\\n",
       "0  open minds conférence pr najat vallaud belkace...      événement   \n",
       "1  modification rendez enregistrer mohammed vi po...          sport   \n",
       "2  al khwarizmi planning semaine décembre bonjour...      formation   \n",
       "3  rendez confirmer succès mohammed vi polytechni...          sport   \n",
       "4  rendez confirmer succès mohammed vi polytechni...          sport   \n",
       "\n",
       "   is_target cosine similarity euclidean distance cosine value euclidean value  \n",
       "0          0         événement          événement       0.0304          1.3925  \n",
       "1          0             sport              sport       0.0258          1.3959  \n",
       "2          0         formation          formation       0.0432          1.3833  \n",
       "3          0             sport              sport       0.0364          1.3883  \n",
       "4          0             sport              sport       0.0394          1.3861  "
      ]
     },
     "execution_count": 238,
     "metadata": {},
     "output_type": "execute_result"
    }
   ],
   "source": [
    "emails_p.head()"
   ]
  },
  {
   "cell_type": "code",
   "execution_count": 239,
   "metadata": {},
   "outputs": [
    {
     "name": "stdout",
     "output_type": "stream",
     "text": [
      "Accuracy: 0.69\n",
      "Detail:\n",
      "              precision    recall  f1-score   support\n",
      "\n",
      "   formation       0.82      0.80      0.81       226\n",
      "   scolarité       0.49      0.37      0.42        73\n",
      "       sport       0.65      1.00      0.79        33\n",
      "   événement       0.31      0.35      0.33        31\n",
      "\n",
      "    accuracy                           0.69       363\n",
      "   macro avg       0.57      0.63      0.59       363\n",
      "weighted avg       0.69      0.69      0.69       363\n",
      "\n"
     ]
    },
    {
     "data": {
      "text/plain": [
       "(array([0.5, 1.5, 2.5, 3.5]),\n",
       " [Text(0, 0.5, 'formation'),\n",
       "  Text(0, 1.5, 'scolarité'),\n",
       "  Text(0, 2.5, 'sport'),\n",
       "  Text(0, 3.5, 'événement')])"
      ]
     },
     "execution_count": 239,
     "metadata": {},
     "output_type": "execute_result"
    },
    {
     "data": {
      "image/png": "[encoded data removed]",
      "text/plain": [
       "<Figure size 576x360 with 1 Axes>"
      ]
     },
     "metadata": {
      "needs_background": "light"
     },
     "output_type": "display_data"
    }
   ],
   "source": [
    "#evaluation for cosine similarity\n",
    "import sklearn.metrics as metrics\n",
    "import seaborn as sns\n",
    "emails_v=emails_p[emails_p[\"is_target\"]==0]\n",
    "predicted=emails_v[\"cosine similarity\"]\n",
    "y=emails_v[\"acual category\"]\n",
    "classes = np.unique(y)\n",
    "y_test_array = pd.get_dummies(y, drop_first=False).values\n",
    "accuracy = metrics.accuracy_score(y, predicted)\n",
    "# auc = metrics.roc_auc_score(y_test, predicted_prob, multi_class=\"ovr\")\n",
    "print(\"Accuracy:\",  round(accuracy,2))\n",
    "# print(\"Auc:\", round(auc,2))\n",
    "print(\"Detail:\")\n",
    "print(metrics.classification_report(y, predicted))\n",
    "## Plot confusion matrix\n",
    "cm = metrics.confusion_matrix(y, predicted)\n",
    "fig, ax = plt.subplots(figsize=(8,5))\n",
    "sns.heatmap(cm, annot=True, fmt='d', ax=ax, cmap=plt.cm.Blues, cbar=False)\n",
    "ax.set(xlabel=\"Pred\", ylabel=\"True\", xticklabels=classes, yticklabels=classes, title=\"Confusion matrix\")\n",
    "plt.yticks(rotation=0)"
   ]
  },
  {
   "cell_type": "code",
   "execution_count": 241,
   "metadata": {
    "scrolled": false
   },
   "outputs": [
    {
     "name": "stdout",
     "output_type": "stream",
     "text": [
      "Accuracy: 0.67\n",
      "Detail:\n",
      "              precision    recall  f1-score   support\n",
      "\n",
      "   formation       0.82      0.76      0.79       226\n",
      "   scolarité       0.49      0.37      0.42        73\n",
      "       sport       0.65      1.00      0.79        33\n",
      "   événement       0.23      0.35      0.28        31\n",
      "\n",
      "    accuracy                           0.67       363\n",
      "   macro avg       0.55      0.62      0.57       363\n",
      "weighted avg       0.69      0.67      0.67       363\n",
      "\n"
     ]
    },
    {
     "data": {
      "text/plain": [
       "(array([0.5, 1.5, 2.5, 3.5]),\n",
       " [Text(0, 0.5, 'formation'),\n",
       "  Text(0, 1.5, 'scolarité'),\n",
       "  Text(0, 2.5, 'sport'),\n",
       "  Text(0, 3.5, 'événement')])"
      ]
     },
     "execution_count": 241,
     "metadata": {},
     "output_type": "execute_result"
    },
    {
     "data": {
      "image/png": "[encoded data removed]",
      "text/plain": [
       "<Figure size 576x360 with 1 Axes>"
      ]
     },
     "metadata": {
      "needs_background": "light"
     },
     "output_type": "display_data"
    }
   ],
   "source": [
    "#evaluation for euclidean distance\n",
    "import sklearn.metrics as metrics\n",
    "import seaborn as sns\n",
    "emails_v=emails_p[emails_p[\"is_target\"]==0]\n",
    "predicted=emails_v[\"euclidean distance\"]\n",
    "y=emails_v[\"acual category\"]\n",
    "classes = np.unique(y)\n",
    "y_test_array = pd.get_dummies(y, drop_first=False).values\n",
    "accuracy = metrics.accuracy_score(y, predicted)\n",
    "# auc = metrics.roc_auc_score(y_test, predicted_prob, multi_class=\"ovr\")\n",
    "print(\"Accuracy:\",  round(accuracy,2))\n",
    "# print(\"Auc:\", round(auc,2))\n",
    "print(\"Detail:\")\n",
    "print(metrics.classification_report(y, predicted))\n",
    "## Plot confusion matrix\n",
    "cm = metrics.confusion_matrix(y, predicted)\n",
    "fig, ax = plt.subplots(figsize=(8,5))\n",
    "sns.heatmap(cm, annot=True, fmt='d', ax=ax, cmap=plt.cm.Blues, cbar=False)\n",
    "ax.set(xlabel=\"Pred\", ylabel=\"True\", xticklabels=classes, yticklabels=classes, title=\"Confusion matrix\")\n",
    "plt.yticks(rotation=0)"
   ]
  },
  {
   "cell_type": "markdown",
   "metadata": {},
   "source": [
    "# Semantic similarity"
   ]
  },
  {
   "cell_type": "code",
   "execution_count": 242,
   "metadata": {},
   "outputs": [],
   "source": [
    "#calculate similarity using spacy\n",
    "emails_p['simantic similarity']=\"\"\n",
    "for index, row in emails_p['text'].iteritems():\n",
    "    if(emails_p[\"is_target\"][index] == 0):\n",
    "        doc=nlp(row)\n",
    "        similarities = {'formation':doc.similarity(nlp(\"formation\")), 'scolarité':doc.similarity(nlp(\"scolarité\")), 'événement': doc.similarity(nlp(\"événement\")), 'sport':doc.similarity(nlp(\"sport\"))}\n",
    "        emails_p['simantic similarity'][index]= max(similarities.items(), key=operator.itemgetter(1))[0]"
   ]
  },
  {
   "cell_type": "code",
   "execution_count": 243,
   "metadata": {},
   "outputs": [
    {
     "name": "stdout",
     "output_type": "stream",
     "text": [
      "Accuracy: 0.53\n",
      "Detail:\n",
      "              precision    recall  f1-score   support\n",
      "\n",
      "   formation       0.68      0.83      0.75       226\n",
      "   scolarité       0.00      0.00      0.00        73\n",
      "       sport       0.00      0.00      0.00        33\n",
      "   événement       0.05      0.13      0.07        31\n",
      "\n",
      "    accuracy                           0.53       363\n",
      "   macro avg       0.18      0.24      0.20       363\n",
      "weighted avg       0.43      0.53      0.47       363\n",
      "\n"
     ]
    },
    {
     "data": {
      "text/plain": [
       "(array([0.5, 1.5, 2.5, 3.5]),\n",
       " [Text(0, 0.5, 'formation'),\n",
       "  Text(0, 1.5, 'scolarité'),\n",
       "  Text(0, 2.5, 'sport'),\n",
       "  Text(0, 3.5, 'événement')])"
      ]
     },
     "execution_count": 243,
     "metadata": {},
     "output_type": "execute_result"
    },
    {
     "data": {
      "image/png": "[encoded data removed]",
      "text/plain": [
       "<Figure size 576x360 with 1 Axes>"
      ]
     },
     "metadata": {
      "needs_background": "light"
     },
     "output_type": "display_data"
    }
   ],
   "source": [
    "#evaluation for euclidean distance\n",
    "import sklearn.metrics as metrics\n",
    "import seaborn as sns\n",
    "emails_v=emails_p[emails_p[\"is_target\"]==0]\n",
    "predicted=emails_v[\"simantic similarity\"]\n",
    "y=emails_v[\"acual category\"]\n",
    "classes = np.unique(y)\n",
    "y_test_array = pd.get_dummies(y, drop_first=False).values\n",
    "accuracy = metrics.accuracy_score(y, predicted)\n",
    "# auc = metrics.roc_auc_score(y_test, predicted_prob, multi_class=\"ovr\")\n",
    "print(\"Accuracy:\",  round(accuracy,2))\n",
    "# print(\"Auc:\", round(auc,2))\n",
    "print(\"Detail:\")\n",
    "print(metrics.classification_report(y, predicted))\n",
    "## Plot confusion matrix\n",
    "cm = metrics.confusion_matrix(y, predicted)\n",
    "fig, ax = plt.subplots(figsize=(8,5))\n",
    "sns.heatmap(cm, annot=True, fmt='d', ax=ax, cmap=plt.cm.Blues, cbar=False)\n",
    "ax.set(xlabel=\"Pred\", ylabel=\"True\", xticklabels=classes, yticklabels=classes, title=\"Confusion matrix\")\n",
    "plt.yticks(rotation=0)"
   ]
  },
  {
   "cell_type": "code",
   "execution_count": null,
   "metadata": {},
   "outputs": [],
   "source": []
  },
  {
   "cell_type": "code",
   "execution_count": null,
   "metadata": {},
   "outputs": [],
   "source": []
  },
  {
   "cell_type": "code",
   "execution_count": null,
   "metadata": {},
   "outputs": [],
   "source": []
  }
 ],
 "metadata": {
  "kernelspec": {
   "display_name": "Python 3",
   "language": "python",
   "name": "python3"
  },
  "language_info": {
   "codemirror_mode": {
    "name": "ipython",
    "version": 3
   },
   "file_extension": ".py",
   "mimetype": "text/x-python",
   "name": "python",
   "nbconvert_exporter": "python",
   "pygments_lexer": "ipython3",
   "version": "3.7.8"
  }
 },
 "nbformat": 4,
 "nbformat_minor": 4
}
