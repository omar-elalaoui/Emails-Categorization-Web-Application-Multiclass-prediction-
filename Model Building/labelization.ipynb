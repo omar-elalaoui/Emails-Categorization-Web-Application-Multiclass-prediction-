{
 "cells": [
  {
   "cell_type": "code",
   "execution_count": 32,
   "metadata": {},
   "outputs": [],
   "source": [
    "import numpy as np\n",
    "import pandas as pd\n",
    "import spacy\n",
    "import warnings\n",
    "warnings.filterwarnings('ignore')"
   ]
  },
  {
   "cell_type": "code",
   "execution_count": 33,
   "metadata": {},
   "outputs": [
    {
     "data": {
      "text/html": [
       "<div>\n",
       "<style scoped>\n",
       "    .dataframe tbody tr th:only-of-type {\n",
       "        vertical-align: middle;\n",
       "    }\n",
       "\n",
       "    .dataframe tbody tr th {\n",
       "        vertical-align: top;\n",
       "    }\n",
       "\n",
       "    .dataframe thead th {\n",
       "        text-align: right;\n",
       "    }\n",
       "</style>\n",
       "<table border=\"1\" class=\"dataframe\">\n",
       "  <thead>\n",
       "    <tr style=\"text-align: right;\">\n",
       "      <th></th>\n",
       "      <th>hasAttachments</th>\n",
       "      <th>sender name</th>\n",
       "      <th>subject</th>\n",
       "      <th>body</th>\n",
       "      <th>sender email domain</th>\n",
       "      <th>language</th>\n",
       "    </tr>\n",
       "  </thead>\n",
       "  <tbody>\n",
       "    <tr>\n",
       "      <th>0</th>\n",
       "      <td>0</td>\n",
       "      <td>um6p events</td>\n",
       "      <td>open minds conférence pr najat vallaud belkacem</td>\n",
       "      <td>chères étudiantes chers étudiants dans le cadr...</td>\n",
       "      <td>um6p</td>\n",
       "      <td>fr</td>\n",
       "    </tr>\n",
       "    <tr>\n",
       "      <th>1</th>\n",
       "      <td>1</td>\n",
       "      <td>sportsbooking</td>\n",
       "      <td>les modifications du rendez vous ont été enreg...</td>\n",
       "      <td>mohammed vi polytechnic university pôle sport ...</td>\n",
       "      <td>um6p</td>\n",
       "      <td>fr</td>\n",
       "    </tr>\n",
       "    <tr>\n",
       "      <th>2</th>\n",
       "      <td>0</td>\n",
       "      <td>nabila idar</td>\n",
       "      <td>al khwarizmi planning de la semaine du au déce...</td>\n",
       "      <td>bonjour merci de trouver ci dessous le plannin...</td>\n",
       "      <td>um6p</td>\n",
       "      <td>fr</td>\n",
       "    </tr>\n",
       "    <tr>\n",
       "      <th>3</th>\n",
       "      <td>1</td>\n",
       "      <td>sportsbooking</td>\n",
       "      <td>votre rendez vous a été confirmé avec succès</td>\n",
       "      <td>mohammed vi polytechnic university pôle sport ...</td>\n",
       "      <td>um6p</td>\n",
       "      <td>fr</td>\n",
       "    </tr>\n",
       "    <tr>\n",
       "      <th>4</th>\n",
       "      <td>1</td>\n",
       "      <td>sportsbooking</td>\n",
       "      <td>votre rendez vous a été confirmé avec succès</td>\n",
       "      <td>mohammed vi polytechnic university pôle sport ...</td>\n",
       "      <td>um6p</td>\n",
       "      <td>fr</td>\n",
       "    </tr>\n",
       "  </tbody>\n",
       "</table>\n",
       "</div>"
      ],
      "text/plain": [
       "   hasAttachments    sender name  \\\n",
       "0               0    um6p events   \n",
       "1               1  sportsbooking   \n",
       "2               0    nabila idar   \n",
       "3               1  sportsbooking   \n",
       "4               1  sportsbooking   \n",
       "\n",
       "                                             subject  \\\n",
       "0    open minds conférence pr najat vallaud belkacem   \n",
       "1  les modifications du rendez vous ont été enreg...   \n",
       "2  al khwarizmi planning de la semaine du au déce...   \n",
       "3       votre rendez vous a été confirmé avec succès   \n",
       "4       votre rendez vous a été confirmé avec succès   \n",
       "\n",
       "                                                body sender email domain  \\\n",
       "0  chères étudiantes chers étudiants dans le cadr...                um6p   \n",
       "1  mohammed vi polytechnic university pôle sport ...                um6p   \n",
       "2  bonjour merci de trouver ci dessous le plannin...                um6p   \n",
       "3  mohammed vi polytechnic university pôle sport ...                um6p   \n",
       "4  mohammed vi polytechnic university pôle sport ...                um6p   \n",
       "\n",
       "  language  \n",
       "0       fr  \n",
       "1       fr  \n",
       "2       fr  \n",
       "3       fr  \n",
       "4       fr  "
      ]
     },
     "execution_count": 33,
     "metadata": {},
     "output_type": "execute_result"
    }
   ],
   "source": [
    "emails_french= pd.read_excel('emails_cleaned_french.xlsx', index_col=None)\n",
    "emails_french.head()"
   ]
  },
  {
   "cell_type": "code",
   "execution_count": 67,
   "metadata": {},
   "outputs": [],
   "source": [
    "nlp = spacy.load('fr_core_news_md')"
   ]
  },
  {
   "cell_type": "code",
   "execution_count": 5,
   "metadata": {},
   "outputs": [],
   "source": [
    "#lemmitization\n",
    "# emails_french['subject']=emails_french[emails_french['subject'].notna()]['subject'].apply(lambda row: \" \".join([w.lemma_ for w in nlp(row)]))\n",
    "# emails_french['body']=emails_french[emails_french['body'].notna()]['body'].apply(lambda row: \" \".join([w.lemma_ for w in nlp(row)]))"
   ]
  },
  {
   "cell_type": "code",
   "execution_count": 34,
   "metadata": {},
   "outputs": [],
   "source": [
    "# # replace nan with empty string for concatenation\n",
    "# emails_french['subject']= emails_french['subject'].replace(np.nan, '', regex=True)\n",
    "# emails_french['body']= emails_french['body'].replace(np.nan, '', regex=True)\n",
    "# #remove tests\n",
    "# emails_french= emails_french[~emails_french['subject'].str.contains(\"test\")]"
   ]
  },
  {
   "cell_type": "code",
   "execution_count": 35,
   "metadata": {},
   "outputs": [],
   "source": [
    "import re\n",
    "emails_french['cotegory']=\" \"\n",
    "for index, row in emails_french['sender name'].iteritems():\n",
    "    if(re.search(\"sport\", row)):\n",
    "        emails_french['cotegory'][index]=\"sport\"\n",
    "    elif(re.search(\"conférence|event|openmind|séminaire\", row)):\n",
    "        emails_french['cotegory'][index]=\"événement\"\n",
    "    else:\n",
    "        emails_french['cotegory'][index]=\"formation\"\n",
    "for index, row in emails_french['subject'].iteritems():\n",
    "    if(re.search(\"conférence|event|openmind|événement\", row)):\n",
    "        emails_french['cotegory'][index]=\"événement\"\n",
    "    elif(re.search(\"scolarité|dossier|inscription|autorisation|paiement|diplôme|réclamation|rentrée|convention|frais\", row)):\n",
    "        emails_french['cotegory'][index]=\"scolarité\"\n",
    "emails_french['cotegory'].value_counts()"
   ]
  },
  {
   "cell_type": "code",
   "execution_count": 87,
   "metadata": {},
   "outputs": [],
   "source": [
    "# #calculate similarity\n",
    "# import operator\n",
    "\n",
    "#concatenate subject with body\n",
    "# emails_french[\"text\"] = emails_french['subject'].map(str) +\" \"+ emails_french['body'].map(str)\n",
    "# for index, row in emails_french['text'].iteritems():\n",
    "#     doc=nlp(row)\n",
    "#     formation= nlp(\"formation\")\n",
    "#     scolarite= nlp(\"scolarité\")\n",
    "#     evenement= nlp(\"evènement\")\n",
    "#     sport= nlp(\"sport\")\n",
    "#     similarities = {'formation':doc.similarity(formation), 'scolarite':doc.similarity(scolarite), 'evenement': doc.similarity(evenement), 'sport':doc.similarity(sport)}\n",
    "#     emails_french['category'][index]= max(similarities.items(), key=operator.itemgetter(1))[0]"
   ]
  },
  {
   "cell_type": "code",
   "execution_count": 38,
   "metadata": {},
   "outputs": [],
   "source": [
    "# emails_french.to_excel(\"labled_emails_french.xlsx\", index=False)"
   ]
  }
 ],
 "metadata": {
  "kernelspec": {
   "display_name": "Python 3",
   "language": "python",
   "name": "python3"
  },
  "language_info": {
   "codemirror_mode": {
    "name": "ipython",
    "version": 3
   },
   "file_extension": ".py",
   "mimetype": "text/x-python",
   "name": "python",
   "nbconvert_exporter": "python",
   "pygments_lexer": "ipython3",
   "version": "3.7.8"
  }
 },
 "nbformat": 4,
 "nbformat_minor": 2
}
