{
 "cells": [
  {
   "cell_type": "code",
   "execution_count": 7,
   "metadata": {},
   "outputs": [],
   "source": [
    "import warnings\n",
    "warnings.filterwarnings('ignore')\n",
    "import numpy as np\n",
    "import pandas as pd\n",
    "import matplotlib.pyplot as plt\n",
    "import seaborn as sns\n",
    "from sklearn import feature_extraction,feature_selection, model_selection, pipeline, naive_bayes\n",
    "from sklearn.model_selection import GridSearchCV\n",
    "from sklearn.decomposition import TruncatedSVD"
   ]
  },
  {
   "cell_type": "code",
   "execution_count": 3,
   "metadata": {},
   "outputs": [],
   "source": [
    "# read data\n",
    "emails= pd.read_csv('prepared.csv')"
   ]
  },
  {
   "cell_type": "code",
   "execution_count": 4,
   "metadata": {},
   "outputs": [],
   "source": [
    "emails= emails[emails['category'] != \"autre\"]"
   ]
  },
  {
   "cell_type": "code",
   "execution_count": 5,
   "metadata": {},
   "outputs": [],
   "source": [
    "# split dataset\n",
    "emails_train, emails_test = model_selection.train_test_split(emails, test_size=0.3, random_state=3)\n",
    "y_train = emails_train[\"category\"].values\n",
    "y_test = emails_test[\"category\"].values\n",
    "X_train= emails_train[\"text\"].values\n",
    "X_test = emails_test[\"text\"].values"
   ]
  },
  {
   "cell_type": "code",
   "execution_count": 6,
   "metadata": {},
   "outputs": [],
   "source": [
    "## Tf-Idf vectorisation\n",
    "vectorizer = feature_extraction.text.TfidfVectorizer()"
   ]
  },
  {
   "cell_type": "code",
   "execution_count": 68,
   "metadata": {},
   "outputs": [],
   "source": [
    "# creating the pipeline for traing the model (XGBoost)\n",
    "classifier = XGBClassifier()\n",
    "model = pipeline.Pipeline([(\"vectorizer\", vectorizer),\n",
    "                           (\"dim_reduction\", TruncatedSVD(n_components= 270 )),\n",
    "                           (\"classifier\", classifier)])"
   ]
  },
  {
   "cell_type": "code",
   "execution_count": 69,
   "metadata": {},
   "outputs": [
    {
     "name": "stdout",
     "output_type": "stream",
     "text": [
      "[23:23:39] WARNING: C:/Users/Administrator/workspace/xgboost-win64_release_1.3.0/src/learner.cc:1061: Starting in XGBoost 1.3.0, the default evaluation metric used with the objective 'multi:softprob' was changed from 'merror' to 'mlogloss'. Explicitly set eval_metric if you'd like to restore the old behavior.\n"
     ]
    }
   ],
   "source": [
    "## test\n",
    "params = {\n",
    "    'classifier__max_depth': (5, 6, 7, 8, 9, 10, 11),\n",
    "    'classifier__n_estimators': (100, 300, 500, 800)\n",
    "}\n",
    "##accuracy\n",
    "grid_search_acc = GridSearchCV(estimator=model, param_grid=params, scoring='accuracy', n_jobs=-1, cv=5)\n",
    "grid_search_acc = grid_search_acc.fit(X_train, y_train)"
   ]
  },
  {
   "cell_type": "code",
   "execution_count": 70,
   "metadata": {},
   "outputs": [
    {
     "name": "stdout",
     "output_type": "stream",
     "text": [
      "best parameters:  {'classifier__max_depth': 5, 'classifier__n_estimators': 100}\n"
     ]
    }
   ],
   "source": [
    "## evaluating the model\n",
    "print('best parameters: ', grid_search_acc.best_params_)"
   ]
  },
  {
   "cell_type": "code",
   "execution_count": 71,
   "metadata": {},
   "outputs": [],
   "source": [
    "## return index for dataframe\n",
    "def return_index_list(param1, param2):\n",
    "    list=[]\n",
    "    for p1 in param1:\n",
    "        for p2 in param2:\n",
    "            list.append('['+str(p1)+', '+str(p2)+']')\n",
    "    return list\n",
    "index= return_index_list(params['classifier__max_depth'], params['classifier__n_estimators'])"
   ]
  },
  {
   "cell_type": "code",
   "execution_count": 72,
   "metadata": {},
   "outputs": [
    {
     "data": {
      "text/html": [
       "<div>\n",
       "<style scoped>\n",
       "    .dataframe tbody tr th:only-of-type {\n",
       "        vertical-align: middle;\n",
       "    }\n",
       "\n",
       "    .dataframe tbody tr th {\n",
       "        vertical-align: top;\n",
       "    }\n",
       "\n",
       "    .dataframe thead th {\n",
       "        text-align: right;\n",
       "    }\n",
       "</style>\n",
       "<table border=\"1\" class=\"dataframe\">\n",
       "  <thead>\n",
       "    <tr style=\"text-align: right;\">\n",
       "      <th></th>\n",
       "      <th>Accuracy</th>\n",
       "      <th>std_cross_validation</th>\n",
       "    </tr>\n",
       "  </thead>\n",
       "  <tbody>\n",
       "    <tr>\n",
       "      <th>[5, 100]</th>\n",
       "      <td>0.877961</td>\n",
       "      <td>0.031328</td>\n",
       "    </tr>\n",
       "    <tr>\n",
       "      <th>[5, 300]</th>\n",
       "      <td>0.862196</td>\n",
       "      <td>0.027751</td>\n",
       "    </tr>\n",
       "    <tr>\n",
       "      <th>[5, 500]</th>\n",
       "      <td>0.862275</td>\n",
       "      <td>0.034824</td>\n",
       "    </tr>\n",
       "    <tr>\n",
       "      <th>[5, 800]</th>\n",
       "      <td>0.874039</td>\n",
       "      <td>0.029235</td>\n",
       "    </tr>\n",
       "    <tr>\n",
       "      <th>[6, 100]</th>\n",
       "      <td>0.846275</td>\n",
       "      <td>0.046161</td>\n",
       "    </tr>\n",
       "    <tr>\n",
       "      <th>[6, 300]</th>\n",
       "      <td>0.858196</td>\n",
       "      <td>0.029184</td>\n",
       "    </tr>\n",
       "    <tr>\n",
       "      <th>[6, 500]</th>\n",
       "      <td>0.858353</td>\n",
       "      <td>0.037740</td>\n",
       "    </tr>\n",
       "    <tr>\n",
       "      <th>[6, 800]</th>\n",
       "      <td>0.862196</td>\n",
       "      <td>0.027751</td>\n",
       "    </tr>\n",
       "    <tr>\n",
       "      <th>[7, 100]</th>\n",
       "      <td>0.846431</td>\n",
       "      <td>0.031476</td>\n",
       "    </tr>\n",
       "    <tr>\n",
       "      <th>[7, 300]</th>\n",
       "      <td>0.858196</td>\n",
       "      <td>0.038300</td>\n",
       "    </tr>\n",
       "    <tr>\n",
       "      <th>[7, 500]</th>\n",
       "      <td>0.862275</td>\n",
       "      <td>0.040916</td>\n",
       "    </tr>\n",
       "    <tr>\n",
       "      <th>[7, 800]</th>\n",
       "      <td>0.858275</td>\n",
       "      <td>0.039954</td>\n",
       "    </tr>\n",
       "    <tr>\n",
       "      <th>[8, 100]</th>\n",
       "      <td>0.854275</td>\n",
       "      <td>0.040577</td>\n",
       "    </tr>\n",
       "    <tr>\n",
       "      <th>[8, 300]</th>\n",
       "      <td>0.862118</td>\n",
       "      <td>0.033207</td>\n",
       "    </tr>\n",
       "    <tr>\n",
       "      <th>[8, 500]</th>\n",
       "      <td>0.846353</td>\n",
       "      <td>0.029422</td>\n",
       "    </tr>\n",
       "    <tr>\n",
       "      <th>[8, 800]</th>\n",
       "      <td>0.862118</td>\n",
       "      <td>0.033207</td>\n",
       "    </tr>\n",
       "    <tr>\n",
       "      <th>[9, 100]</th>\n",
       "      <td>0.850353</td>\n",
       "      <td>0.044149</td>\n",
       "    </tr>\n",
       "    <tr>\n",
       "      <th>[9, 300]</th>\n",
       "      <td>0.850275</td>\n",
       "      <td>0.034778</td>\n",
       "    </tr>\n",
       "    <tr>\n",
       "      <th>[9, 500]</th>\n",
       "      <td>0.846353</td>\n",
       "      <td>0.045782</td>\n",
       "    </tr>\n",
       "    <tr>\n",
       "      <th>[9, 800]</th>\n",
       "      <td>0.850275</td>\n",
       "      <td>0.034778</td>\n",
       "    </tr>\n",
       "    <tr>\n",
       "      <th>[10, 100]</th>\n",
       "      <td>0.858196</td>\n",
       "      <td>0.036236</td>\n",
       "    </tr>\n",
       "    <tr>\n",
       "      <th>[10, 300]</th>\n",
       "      <td>0.846353</td>\n",
       "      <td>0.038481</td>\n",
       "    </tr>\n",
       "    <tr>\n",
       "      <th>[10, 500]</th>\n",
       "      <td>0.862196</td>\n",
       "      <td>0.017572</td>\n",
       "    </tr>\n",
       "    <tr>\n",
       "      <th>[10, 800]</th>\n",
       "      <td>0.850275</td>\n",
       "      <td>0.034778</td>\n",
       "    </tr>\n",
       "    <tr>\n",
       "      <th>[11, 100]</th>\n",
       "      <td>0.846431</td>\n",
       "      <td>0.040073</td>\n",
       "    </tr>\n",
       "    <tr>\n",
       "      <th>[11, 300]</th>\n",
       "      <td>0.858118</td>\n",
       "      <td>0.036656</td>\n",
       "    </tr>\n",
       "    <tr>\n",
       "      <th>[11, 500]</th>\n",
       "      <td>0.858196</td>\n",
       "      <td>0.038300</td>\n",
       "    </tr>\n",
       "    <tr>\n",
       "      <th>[11, 800]</th>\n",
       "      <td>0.858196</td>\n",
       "      <td>0.029184</td>\n",
       "    </tr>\n",
       "  </tbody>\n",
       "</table>\n",
       "</div>"
      ],
      "text/plain": [
       "           Accuracy  std_cross_validation\n",
       "[5, 100]   0.877961              0.031328\n",
       "[5, 300]   0.862196              0.027751\n",
       "[5, 500]   0.862275              0.034824\n",
       "[5, 800]   0.874039              0.029235\n",
       "[6, 100]   0.846275              0.046161\n",
       "[6, 300]   0.858196              0.029184\n",
       "[6, 500]   0.858353              0.037740\n",
       "[6, 800]   0.862196              0.027751\n",
       "[7, 100]   0.846431              0.031476\n",
       "[7, 300]   0.858196              0.038300\n",
       "[7, 500]   0.862275              0.040916\n",
       "[7, 800]   0.858275              0.039954\n",
       "[8, 100]   0.854275              0.040577\n",
       "[8, 300]   0.862118              0.033207\n",
       "[8, 500]   0.846353              0.029422\n",
       "[8, 800]   0.862118              0.033207\n",
       "[9, 100]   0.850353              0.044149\n",
       "[9, 300]   0.850275              0.034778\n",
       "[9, 500]   0.846353              0.045782\n",
       "[9, 800]   0.850275              0.034778\n",
       "[10, 100]  0.858196              0.036236\n",
       "[10, 300]  0.846353              0.038481\n",
       "[10, 500]  0.862196              0.017572\n",
       "[10, 800]  0.850275              0.034778\n",
       "[11, 100]  0.846431              0.040073\n",
       "[11, 300]  0.858118              0.036656\n",
       "[11, 500]  0.858196              0.038300\n",
       "[11, 800]  0.858196              0.029184"
      ]
     },
     "execution_count": 72,
     "metadata": {},
     "output_type": "execute_result"
    }
   ],
   "source": [
    "df= pd.DataFrame({  'Accuracy': grid_search_acc.cv_results_['mean_test_score'],\n",
    "                     'std_cross_validation': grid_search_acc.cv_results_['std_test_score']},\n",
    "                 index=index)\n",
    "df"
   ]
  },
  {
   "cell_type": "code",
   "execution_count": 74,
   "metadata": {},
   "outputs": [
    {
     "name": "stdout",
     "output_type": "stream",
     "text": [
      "Accuracy: 0.87\n",
      "Detail:\n",
      "              precision    recall  f1-score   support\n",
      "\n",
      "   formation       0.83      0.98      0.90        63\n",
      "   scolarité       0.94      0.60      0.73        25\n",
      "       sport       1.00      1.00      1.00        14\n",
      "   événement       1.00      0.57      0.73         7\n",
      "\n",
      "    accuracy                           0.87       109\n",
      "   macro avg       0.94      0.79      0.84       109\n",
      "weighted avg       0.89      0.87      0.86       109\n",
      "\n"
     ]
    },
    {
     "data": {
      "text/plain": [
       "(array([0.5, 1.5, 2.5, 3.5]),\n",
       " [Text(0, 0.5, 'formation'),\n",
       "  Text(0, 1.5, 'scolarité'),\n",
       "  Text(0, 2.5, 'sport'),\n",
       "  Text(0, 3.5, 'événement')])"
      ]
     },
     "execution_count": 74,
     "metadata": {},
     "output_type": "execute_result"
    },
    {
     "data": {
      "image/png": "[encoded data removed]",
      "text/plain": [
       "<Figure size 432x288 with 1 Axes>"
      ]
     },
     "metadata": {
      "needs_background": "light"
     },
     "output_type": "display_data"
    }
   ],
   "source": [
    "#evaluation\n",
    "predicted = grid_search_acc.best_estimator_.predict(X_test)\n",
    "classes = np.unique(y_test)\n",
    "y_test_array = pd.get_dummies(y_test, drop_first=False).values\n",
    "\n",
    "import sklearn.metrics as metrics\n",
    "accuracy = metrics.accuracy_score(y_test, predicted)\n",
    "print(\"Accuracy:\",  round(accuracy,2))\n",
    "print(\"Detail:\")\n",
    "print(metrics.classification_report(y_test, predicted))\n",
    "## Plot confusion matrix\n",
    "cm = metrics.confusion_matrix(y_test, predicted)\n",
    "fig, ax = plt.subplots()\n",
    "sns.heatmap(cm, annot=True, fmt='d', ax=ax, cmap=plt.cm.Blues, cbar=False)\n",
    "ax.set(xlabel=\"Pred\", ylabel=\"True\", xticklabels=classes, yticklabels=classes, title=\"Confusion matrix\")\n",
    "plt.yticks(rotation=0)"
   ]
  },
  {
   "cell_type": "code",
   "execution_count": null,
   "metadata": {},
   "outputs": [],
   "source": []
  }
 ],
 "metadata": {
  "kernelspec": {
   "display_name": "Python 3",
   "language": "python",
   "name": "python3"
  },
  "language_info": {
   "codemirror_mode": {
    "name": "ipython",
    "version": 3
   },
   "file_extension": ".py",
   "mimetype": "text/x-python",
   "name": "python",
   "nbconvert_exporter": "python",
   "pygments_lexer": "ipython3",
   "version": "3.7.8"
  }
 },
 "nbformat": 4,
 "nbformat_minor": 4
}
