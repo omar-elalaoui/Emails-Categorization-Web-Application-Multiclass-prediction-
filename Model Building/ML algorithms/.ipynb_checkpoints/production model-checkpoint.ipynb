{
 "cells": [
  {
   "cell_type": "code",
   "execution_count": 2,
   "metadata": {},
   "outputs": [],
   "source": [
    "import string\n",
    "import warnings\n",
    "warnings.filterwarnings('ignore')\n",
    "import numpy as np\n",
    "import pandas as pd\n",
    "import matplotlib.pyplot as plt\n",
    "import seaborn as sns\n",
    "from sklearn import feature_extraction,feature_selection, model_selection, pipeline, naive_bayes\n",
    "from sklearn.svm import SVC"
   ]
  },
  {
   "cell_type": "code",
   "execution_count": 4,
   "metadata": {},
   "outputs": [],
   "source": [
    "# read data\n",
    "emails= pd.read_excel('../emails.xlsx')\n",
    "email= emails['body'][0]"
   ]
  },
  {
   "cell_type": "code",
   "execution_count": 5,
   "metadata": {},
   "outputs": [],
   "source": [
    "# for testing\n",
    "dic= {\"subject\": \"open minds\", \"body\": \"the body omar@gmail.com ali\"}\n",
    "email= dic[\"subject\"]+ \" \" +dic[\"body\"]"
   ]
  },
  {
   "cell_type": "code",
   "execution_count": null,
   "metadata": {
    "pycharm": {
     "name": "#%%\n"
    }
   },
   "outputs": [],
   "source": []
  },
  {
   "cell_type": "code",
   "execution_count": null,
   "metadata": {},
   "outputs": [],
   "source": []
  },
  {
   "cell_type": "code",
   "execution_count": 6,
   "metadata": {},
   "outputs": [],
   "source": [
    "# lower case subject and body columns\n",
    "email= email.lower()"
   ]
  },
  {
   "cell_type": "code",
   "execution_count": 7,
   "metadata": {},
   "outputs": [],
   "source": [
    "#remove unwanted patterns in forwarded messages\n",
    "import re\n",
    "email= re.sub('from:.*\\nsent:.*\\nto:.*\\n(.*\\n)*subject:.*', '', email)\n",
    "email= re.sub('from:.*\\ndate:.*\\nsubject:.*\\n(.*\\n)*to:.*\\n', '', email)\n",
    "email= re.sub('de\\s?:.*\\nenvoyé\\s?:.*\\nà\\s?:.*\\n(.*\\n)*objet\\s?:.*', '', email)\n",
    "email= re.sub('caution: this email originat.+content is safe.', '', email)"
   ]
  },
  {
   "cell_type": "code",
   "execution_count": 8,
   "metadata": {},
   "outputs": [],
   "source": [
    "#remove: links and emails\n",
    "email= re.sub('http\\S+', ' ', email)\n",
    "email= re.sub('www\\.\\S+\\.\\S+', ' ', email)\n",
    "email= re.sub('\\S+@\\S+', ' ', email)"
   ]
  },
  {
   "cell_type": "code",
   "execution_count": 9,
   "metadata": {},
   "outputs": [],
   "source": [
    "#Expand Abbreviation\n",
    "#replace tp, tp1, tp2, tp3 ===> travaux pratiques\n",
    "email= re.sub('tp[0-9]*', 'travaux pratiques', email)\n",
    "#replace tds, td1, td2 ===> travaux dirigés\n",
    "email= re.sub('td[0-9]+', 'travaux dirigés', email)\n",
    "#replace s1, s2, s3 ===> semestre\n",
    "email= re.sub('s[0-9]+', 'semestre', email)\n",
    "#replace um6p ===> université polytechnique\n",
    "email= re.sub('um[0-9]+p', 'université polytechnique', email)\n",
    "\n",
    "#remove numbers\n",
    "email= re.sub('\\d+', '', email)\n",
    "\n",
    "# remove empty lines\n",
    "#check if null\n",
    "email = \"\".join([s for s in email.strip().splitlines(True) if s.strip()])\n",
    "#remove punctuation\n",
    "email= re.sub('[{}]'.format(string.punctuation), ' ', email)\n",
    "\n",
    "#remove leading and ending spaces\n",
    "email= email.strip()\n",
    "#remove duplicated spaces\n",
    "#check if null\n",
    "email= \" \".join(email.split())"
   ]
  },
  {
   "cell_type": "code",
   "execution_count": 10,
   "metadata": {},
   "outputs": [],
   "source": [
    "#detecter la langue\n",
    "from langdetect import detect\n",
    "try:\n",
    "    language = detect(email)\n",
    "except:\n",
    "    language = \"fr\""
   ]
  },
  {
   "cell_type": "code",
   "execution_count": 14,
   "metadata": {},
   "outputs": [],
   "source": [
    "import joblib\n",
    "with open('model.pkl', 'rb') as f:\n",
    "    svm = joblib.load(f)\n",
    "with open('tfIdf_vectorizer.pkl', 'rb') as f:\n",
    "    vect = joblib.load(f)"
   ]
  },
  {
   "cell_type": "code",
   "execution_count": 16,
   "metadata": {},
   "outputs": [],
   "source": [
    "import spacy\n",
    "nlp = spacy.load('fr_core_news_md')\n",
    "# removing stop words and lemmitization\n",
    "email= \" \".join([w.lemma_ for w in nlp(email) if not w.is_stop])"
   ]
  },
  {
   "cell_type": "code",
   "execution_count": 17,
   "metadata": {},
   "outputs": [
    {
     "data": {
      "text/plain": [
       "'formation'"
      ]
     },
     "execution_count": 17,
     "metadata": {},
     "output_type": "execute_result"
    }
   ],
   "source": [
    "v=vect.transform( [email] )\n",
    "s= svm.predict(v)\n",
    "s[0]"
   ]
  },
  {
   "cell_type": "code",
   "execution_count": 5,
   "metadata": {},
   "outputs": [],
   "source": [
    "\n",
    "# # split dataset\n",
    "# emails_train, emails_test = model_selection.train_test_split(emails, test_size=0.3, random_state=3)\n",
    "# y_train = emails_train[\"category\"].values\n",
    "# y_test = emails_test[\"category\"].values\n",
    "# X_train= emails_train[\"text\"].values\n",
    "# X_test = emails_test[\"text\"].values## Tf-Idf vectorisation\n",
    "# vectorizer = feature_extraction.text.TfidfVectorizer()\n",
    "# #create feature matrix\n",
    "# text = emails_train[\"text\"]\n",
    "# vectorizer.fit(text)\n",
    "# X_train = vectorizer.transform(text)\n",
    "\n",
    "# classifier = SVC(C=10, gamma=0.1)\n",
    "# classifier.fit(X_train, y_train)\n",
    "# X_test = vectorizer.transform(X_test)\n",
    "# predicted = classifier.predict(X_test)#evaluation\n",
    "# classes = np.unique(y_test)\n",
    "# y_test_array = pd.get_dummies(y_test, drop_first=False).values\n",
    "\n",
    "# import sklearn.metrics as metrics\n",
    "# accuracy = metrics.accuracy_score(y_test, predicted)\n",
    "# print(\"Accuracy:\",  round(accuracy,2))\n",
    "# print(\"Detail:\")\n",
    "# print(metrics.classification_report(y_test, predicted))\n",
    "# ## Plot confusion matrix\n",
    "# cm = metrics.confusion_matrix(y_test, predicted)\n",
    "# fig, ax = plt.subplots()\n",
    "# sns.heatmap(cm, annot=True, fmt='d', ax=ax, cmap=plt.cm.Blues, \n",
    "#             cbar=False)\n",
    "# ax.set(xlabel=\"Pred\", ylabel=\"True\", xticklabels=classes, \n",
    "#        yticklabels=classes, title=\"Confusion matrix\")\n",
    "# plt.yticks(rotation=0)\n",
    "# import joblib \n",
    "# joblib.dump(classifier, 'model.pkl')\n",
    "# joblib.dump(vectorizer,'tfIdf_vectorizer.pkl')\n",
    "# with open('model.pkl', 'rb') as f:\n",
    "#     md = joblib.load(f)\n",
    "# with open('tfIdf_vectorizer.pkl', 'rb') as f:\n",
    "#     vect = joblib.load(f)\n",
    "# v=vect.transform( [emails_test[\"text\"][102]] )\n",
    "# s= d.predict(v)\n",
    "# s[0]"
   ]
  }
 ],
 "metadata": {
  "kernelspec": {
   "display_name": "Python 3",
   "language": "python",
   "name": "python3"
  },
  "language_info": {
   "codemirror_mode": {
    "name": "ipython",
    "version": 3
   },
   "file_extension": ".py",
   "mimetype": "text/x-python",
   "name": "python",
   "nbconvert_exporter": "python",
   "pygments_lexer": "ipython3",
   "version": "3.7.4"
  }
 },
 "nbformat": 4,
 "nbformat_minor": 4
}
